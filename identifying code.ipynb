{
 "cells": [
  {
   "cell_type": "code",
   "execution_count": 1,
   "metadata": {},
   "outputs": [],
   "source": [
    "from PIL import Image\n",
    "from captcha.image import ImageCaptcha\n",
    "import numpy as np\n",
    " \n",
    "def generate_captcha(captcha_text):\n",
    "    \"\"\"\n",
    "    get captcha text and np array\n",
    "    :param captcha_text: source text\n",
    "    :return: captcha image and array\n",
    "    \"\"\"\n",
    "    image = ImageCaptcha()\n",
    "    captcha = image.generate(captcha_text)\n",
    "    captcha_image = Image.open(captcha)\n",
    "    captcha_array = np.array(captcha_image)\n",
    "    return captcha_array"
   ]
  },
  {
   "cell_type": "code",
   "execution_count": 4,
   "metadata": {},
   "outputs": [
    {
     "data": {
      "text/plain": [
       "(array([[[247, 241, 243],\n",
       "         [247, 241, 243],\n",
       "         [247, 241, 243],\n",
       "         ...,\n",
       "         [247, 241, 243],\n",
       "         [247, 241, 243],\n",
       "         [247, 241, 243]],\n",
       " \n",
       "        [[247, 241, 243],\n",
       "         [247, 241, 243],\n",
       "         [247, 241, 243],\n",
       "         ...,\n",
       "         [247, 241, 243],\n",
       "         [247, 241, 243],\n",
       "         [247, 241, 243]],\n",
       " \n",
       "        [[247, 241, 243],\n",
       "         [247, 241, 243],\n",
       "         [247, 241, 243],\n",
       "         ...,\n",
       "         [247, 241, 243],\n",
       "         [247, 241, 243],\n",
       "         [247, 241, 243]],\n",
       " \n",
       "        ...,\n",
       " \n",
       "        [[247, 241, 243],\n",
       "         [247, 241, 243],\n",
       "         [247, 241, 243],\n",
       "         ...,\n",
       "         [247, 241, 243],\n",
       "         [247, 241, 243],\n",
       "         [247, 241, 243]],\n",
       " \n",
       "        [[247, 241, 243],\n",
       "         [247, 241, 243],\n",
       "         [247, 241, 243],\n",
       "         ...,\n",
       "         [247, 241, 243],\n",
       "         [247, 241, 243],\n",
       "         [247, 241, 243]],\n",
       " \n",
       "        [[247, 241, 243],\n",
       "         [247, 241, 243],\n",
       "         [247, 241, 243],\n",
       "         ...,\n",
       "         [247, 241, 243],\n",
       "         [247, 241, 243],\n",
       "         [247, 241, 243]]], dtype=uint8), (60, 160, 3))"
      ]
     },
     "execution_count": 4,
     "metadata": {},
     "output_type": "execute_result"
    }
   ],
   "source": [
    "a = '1234'\n",
    "generate_captcha(a), generate_captcha(a).shape"
   ]
  },
  {
   "cell_type": "code",
   "execution_count": 17,
   "metadata": {},
   "outputs": [
    {
     "name": "stdout",
     "output_type": "stream",
     "text": [
      "<class 'PIL.PngImagePlugin.PngImageFile'>\n",
      "Python3WebSpider\n",
      "\n",
      "\n"
     ]
    },
    {
     "data": {
      "text/plain": [
       "<matplotlib.image.AxesImage at 0x7fda14fd5c88>"
      ]
     },
     "execution_count": 17,
     "metadata": {},
     "output_type": "execute_result"
    },
    {
     "data": {
      "image/png": "[encoded data removed]",
      "text/plain": [
       "<Figure size 432x288 with 1 Axes>"
      ]
     },
     "metadata": {
      "needs_background": "light"
     },
     "output_type": "display_data"
    }
   ],
   "source": [
    "import tesserocr\n",
    "from PIL import Image\n",
    "import matplotlib.pyplot as plt\n",
    "%matplotlib inline\n",
    "image = Image.open('image.png')\n",
    "print(type(image))\n",
    "# image.show()\n",
    "print(tesserocr.image_to_text(image))\n",
    "plt.imshow(image)"
   ]
  },
  {
   "cell_type": "code",
   "execution_count": 10,
   "metadata": {},
   "outputs": [
    {
     "name": "stdout",
     "output_type": "stream",
     "text": [
      "Python3WebSpider\n",
      "\n",
      "\n"
     ]
    }
   ],
   "source": [
    "import tesserocr\n",
    "print(tesserocr.file_to_text('image.png'))"
   ]
  },
  {
   "cell_type": "code",
   "execution_count": null,
   "metadata": {},
   "outputs": [],
   "source": []
  }
 ],
 "metadata": {
  "kernelspec": {
   "display_name": "Python 3",
   "language": "python",
   "name": "python3"
  },
  "language_info": {
   "codemirror_mode": {
    "name": "ipython",
    "version": 3
   },
   "file_extension": ".py",
   "mimetype": "text/x-python",
   "name": "python",
   "nbconvert_exporter": "python",
   "pygments_lexer": "ipython3",
   "version": "3.7.0"
  }
 },
 "nbformat": 4,
 "nbformat_minor": 2
}
